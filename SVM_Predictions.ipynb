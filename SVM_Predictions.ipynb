{
 "cells": [
  {
   "cell_type": "code",
   "execution_count": 37,
   "metadata": {},
   "outputs": [],
   "source": [
    "# Import libraries\n",
    "import pandas as pd\n",
    "from sklearn.model_selection import train_test_split\n",
    "from sklearn.preprocessing import MinMaxScaler\n",
    "from tensorflow.keras.utils import to_categorical\n",
    "from sklearn.model_selection import GridSearchCV\n",
    "from sklearn.externals import joblib "
   ]
  },
  {
   "cell_type": "code",
   "execution_count": 38,
   "metadata": {},
   "outputs": [],
   "source": [
    "# To load: \n",
    "model = joblib.load('svm_linear_model.sav')"
   ]
  },
  {
   "cell_type": "code",
   "execution_count": 46,
   "metadata": {},
   "outputs": [
    {
     "ename": "NameError",
     "evalue": "name 'y_train' is not defined",
     "output_type": "error",
     "traceback": [
      "\u001b[1;31m---------------------------------------------------------------------------\u001b[0m",
      "\u001b[1;31mNameError\u001b[0m                                 Traceback (most recent call last)",
      "\u001b[1;32m<ipython-input-46-0a897f935539>\u001b[0m in \u001b[0;36m<module>\u001b[1;34m()\u001b[0m\n\u001b[0;32m      1\u001b[0m \u001b[1;32mfrom\u001b[0m \u001b[0msklearn\u001b[0m\u001b[1;33m.\u001b[0m\u001b[0msvm\u001b[0m \u001b[1;32mimport\u001b[0m \u001b[0mSVC\u001b[0m\u001b[1;33m\u001b[0m\u001b[0m\n\u001b[1;32m----> 2\u001b[1;33m \u001b[0mmodel\u001b[0m\u001b[1;33m.\u001b[0m\u001b[0mfit\u001b[0m\u001b[1;33m(\u001b[0m\u001b[0mX\u001b[0m\u001b[1;33m,\u001b[0m \u001b[0my_train\u001b[0m\u001b[1;33m)\u001b[0m\u001b[1;33m\u001b[0m\u001b[0m\n\u001b[0m",
      "\u001b[1;31mNameError\u001b[0m: name 'y_train' is not defined"
     ]
    }
   ],
   "source": [
    "from sklearn.svm import SVC \n",
    "model.fit(X, y_train)"
   ]
  },
  {
   "cell_type": "code",
   "execution_count": 35,
   "metadata": {},
   "outputs": [
    {
     "ename": "AttributeError",
     "evalue": "'SVC' object has no attribute 'columns'",
     "output_type": "error",
     "traceback": [
      "\u001b[1;31m---------------------------------------------------------------------------\u001b[0m",
      "\u001b[1;31mAttributeError\u001b[0m                            Traceback (most recent call last)",
      "\u001b[1;32m<ipython-input-35-02381dacfffb>\u001b[0m in \u001b[0;36m<module>\u001b[1;34m()\u001b[0m\n\u001b[0;32m      3\u001b[0m \u001b[1;32mfrom\u001b[0m \u001b[0msklearn\u001b[0m\u001b[1;33m.\u001b[0m\u001b[0mpreprocessing\u001b[0m \u001b[1;32mimport\u001b[0m \u001b[0mStandardScaler\u001b[0m\u001b[1;33m\u001b[0m\u001b[0m\n\u001b[0;32m      4\u001b[0m \u001b[1;33m\u001b[0m\u001b[0m\n\u001b[1;32m----> 5\u001b[1;33m \u001b[0mx\u001b[0m \u001b[1;33m=\u001b[0m \u001b[0mlist\u001b[0m\u001b[1;33m(\u001b[0m\u001b[0mdata\u001b[0m\u001b[1;33m.\u001b[0m\u001b[0mcolumns\u001b[0m\u001b[1;33m.\u001b[0m\u001b[0mvalues\u001b[0m\u001b[1;33m)\u001b[0m\u001b[1;33m\u001b[0m\u001b[0m\n\u001b[0m\u001b[0;32m      6\u001b[0m \u001b[1;33m\u001b[0m\u001b[0m\n\u001b[0;32m      7\u001b[0m \u001b[0mss\u001b[0m \u001b[1;33m=\u001b[0m \u001b[0mStandardScaler\u001b[0m\u001b[1;33m(\u001b[0m\u001b[1;33m)\u001b[0m\u001b[1;33m\u001b[0m\u001b[0m\n",
      "\u001b[1;31mAttributeError\u001b[0m: 'SVC' object has no attribute 'columns'"
     ]
    }
   ],
   "source": [
    "# Scale our model\n",
    "\n",
    "from sklearn.preprocessing import StandardScaler\n",
    "\n",
    "x = list(data.columns.values)\n",
    "\n",
    "ss = StandardScaler()\n",
    "ss.fit(x[:,0:10])\n",
    "x[:,0:10] = ss.transform(x[:,0:10])\n",
    "ss = StandardScaler()\n",
    "ss.fit(x[:,10:20])\n",
    "x[:,10:20] = ss.transform(x[:,10:20])"
   ]
  },
  {
   "cell_type": "code",
   "execution_count": 24,
   "metadata": {},
   "outputs": [
    {
     "name": "stdout",
     "output_type": "stream",
     "text": [
      "0       9\n",
      "1       9\n",
      "2       9\n",
      "3       9\n",
      "4       9\n",
      "5       9\n",
      "6       9\n",
      "7       9\n",
      "8       9\n",
      "9       9\n",
      "10      9\n",
      "11      9\n",
      "12      9\n",
      "13      9\n",
      "14      9\n",
      "15      9\n",
      "16      9\n",
      "17      9\n",
      "18      9\n",
      "19      9\n",
      "20      9\n",
      "21      9\n",
      "22      9\n",
      "23      9\n",
      "24      9\n",
      "25      9\n",
      "26      9\n",
      "27      9\n",
      "28      9\n",
      "29      9\n",
      "       ..\n",
      "6467    9\n",
      "6468    9\n",
      "6469    9\n",
      "6470    9\n",
      "6471    9\n",
      "6472    9\n",
      "6473    9\n",
      "6474    9\n",
      "6475    9\n",
      "6476    9\n",
      "6477    9\n",
      "6478    9\n",
      "6479    9\n",
      "6480    9\n",
      "6481    9\n",
      "6482    9\n",
      "6483    9\n",
      "6484    9\n",
      "6485    9\n",
      "6486    9\n",
      "6487    9\n",
      "6488    9\n",
      "6489    9\n",
      "6490    9\n",
      "6491    9\n",
      "6492    9\n",
      "6493    9\n",
      "6494    9\n",
      "6495    9\n",
      "6496    9\n",
      "Length: 6497, dtype: int64\n"
     ]
    }
   ],
   "source": [
    "# New data to predict\n",
    "pr = pd.read_csv('..\\Final_Project\\data\\Test_Data.csv')\n",
    "pred_cols = list(pr.columns.values)\n",
    "\n",
    "# apply the whole pipeline to data\n",
    "pred = pd.Series(data.predict(pr[pred_cols]))\n",
    "print(pred)"
   ]
  },
  {
   "cell_type": "code",
   "execution_count": null,
   "metadata": {},
   "outputs": [],
   "source": []
  },
  {
   "cell_type": "code",
   "execution_count": null,
   "metadata": {},
   "outputs": [],
   "source": []
  }
 ],
 "metadata": {
  "kernelspec": {
   "display_name": "Python 3",
   "language": "python",
   "name": "python3"
  },
  "language_info": {
   "codemirror_mode": {
    "name": "ipython",
    "version": 3
   },
   "file_extension": ".py",
   "mimetype": "text/x-python",
   "name": "python",
   "nbconvert_exporter": "python",
   "pygments_lexer": "ipython3",
   "version": "3.6.5"
  }
 },
 "nbformat": 4,
 "nbformat_minor": 2
}
